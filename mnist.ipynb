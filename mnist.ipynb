{
  "nbformat": 4,
  "nbformat_minor": 0,
  "metadata": {
    "colab": {
      "name": "mnist",
      "provenance": [],
      "authorship_tag": "ABX9TyNRfA1leNwvNDEPB6IjrBAv",
      "include_colab_link": true
    },
    "kernelspec": {
      "name": "python3",
      "display_name": "Python 3"
    }
  },
  "cells": [
    {
      "cell_type": "markdown",
      "metadata": {
        "id": "view-in-github",
        "colab_type": "text"
      },
      "source": [
        "<a href=\"https://colab.research.google.com/github/Supreet-Gupta/hello-world/blob/master/mnist.ipynb\" target=\"_parent\"><img src=\"https://colab.research.google.com/assets/colab-badge.svg\" alt=\"Open In Colab\"/></a>"
      ]
    },
    {
      "cell_type": "code",
      "metadata": {
        "id": "y1c7Ewu6KXYJ",
        "colab_type": "code",
        "colab": {}
      },
      "source": [
        "from keras.datasets import mnist\n",
        "import numpy as np\n",
        "from keras.models import Sequential\n",
        "from keras.layers import Add, Dense, Activation, BatchNormalization, Flatten, Conv2D, MaxPooling2D\n",
        "from keras.utils import to_categorical\n",
        "from keras.optimizers import Adam\n"
      ],
      "execution_count": 0,
      "outputs": []
    },
    {
      "cell_type": "code",
      "metadata": {
        "id": "0BsPUGIyUS4c",
        "colab_type": "code",
        "colab": {}
      },
      "source": [
        "(X_train_orig, Y_train_orig), (X_test_orig, Y_test_orig) = mnist.load_data()"
      ],
      "execution_count": 0,
      "outputs": []
    },
    {
      "cell_type": "code",
      "metadata": {
        "id": "hIc3C_R_W1kj",
        "colab_type": "code",
        "colab": {}
      },
      "source": [
        "X_train= X_train_orig.reshape((X_train_orig.shape[0],28,28,1))\n",
        "X_test= X_test_orig.reshape((X_test_orig.shape[0],28,28,1))\n",
        "print(X_train.shape)\n",
        "print(X_test.shape)"
      ],
      "execution_count": 0,
      "outputs": []
    },
    {
      "cell_type": "code",
      "metadata": {
        "id": "2kVwFKA6grHi",
        "colab_type": "code",
        "colab": {}
      },
      "source": [
        "X_train=X_train/255.0\n",
        "X_test=X_test/255.0\n",
        "X_train=X_train.astype('float32')\n",
        "X_test=X_test.astype('float32')"
      ],
      "execution_count": 0,
      "outputs": []
    },
    {
      "cell_type": "code",
      "metadata": {
        "id": "H54um3bPhZqn",
        "colab_type": "code",
        "colab": {}
      },
      "source": [
        "#one hot encode labels\n",
        "Y_train= to_categorical(Y_train_orig, num_classes=10, dtype='float32')\n",
        "Y_test= to_categorical(Y_test_orig, num_classes=10, dtype= 'float32')"
      ],
      "execution_count": 0,
      "outputs": []
    },
    {
      "cell_type": "code",
      "metadata": {
        "id": "g31SLJFPjFpa",
        "colab_type": "code",
        "colab": {}
      },
      "source": [
        "model = Sequential()\n",
        "model.add(Conv2D(32,(2,2), strides=(1,1), input_shape=(28,28,1)))\n",
        "model.add(BatchNormalization(axis = -1, momentum = 0.99, epsilon = 0.001))\n",
        "model.add(Activation('relu'))\n",
        "model.add(Conv2D(32,(2,2), strides=(1,1)))\n",
        "model.add(BatchNormalization(axis = -1, momentum = 0.99, epsilon = 0.001))\n",
        "model.add(Activation('relu'))\n",
        "model.add(MaxPooling2D((2,2)))\n",
        "model.add(Flatten())\n",
        "model.add(Dense(10,activation='softmax')) "
      ],
      "execution_count": 0,
      "outputs": []
    },
    {
      "cell_type": "code",
      "metadata": {
        "id": "Y-ttKv3XCrNV",
        "colab_type": "code",
        "colab": {}
      },
      "source": [
        "model.compile(optimizer= Adam(learning_rate=0.001, beta_1=0.9, beta_2=0.999, amsgrad=False), loss='categorical_crossentropy', metrics = ['accuracy'])"
      ],
      "execution_count": 0,
      "outputs": []
    },
    {
      "cell_type": "code",
      "metadata": {
        "id": "C_RYO3MGGTjl",
        "colab_type": "code",
        "colab": {
          "base_uri": "https://localhost:8080/",
          "height": 1000
        },
        "outputId": "e54502e7-5a84-4e84-ea54-094d4baf9da6"
      },
      "source": [
        "model.fit(X_train, Y_train, epochs = 40, batch_size=50)"
      ],
      "execution_count": 37,
      "outputs": [
        {
          "output_type": "stream",
          "text": [
            "Epoch 1/40\n",
            "60000/60000 [==============================] - 91s 2ms/step - loss: 0.1515 - accuracy: 0.9553\n",
            "Epoch 2/40\n",
            "60000/60000 [==============================] - 91s 2ms/step - loss: 0.0641 - accuracy: 0.9800\n",
            "Epoch 3/40\n",
            "60000/60000 [==============================] - 91s 2ms/step - loss: 0.0450 - accuracy: 0.9855\n",
            "Epoch 4/40\n",
            "60000/60000 [==============================] - 91s 2ms/step - loss: 0.0340 - accuracy: 0.9891\n",
            "Epoch 5/40\n",
            "60000/60000 [==============================] - 92s 2ms/step - loss: 0.0280 - accuracy: 0.9908\n",
            "Epoch 6/40\n",
            "60000/60000 [==============================] - 91s 2ms/step - loss: 0.0228 - accuracy: 0.9926\n",
            "Epoch 7/40\n",
            "60000/60000 [==============================] - 91s 2ms/step - loss: 0.0176 - accuracy: 0.9941\n",
            "Epoch 8/40\n",
            "60000/60000 [==============================] - 91s 2ms/step - loss: 0.0145 - accuracy: 0.9951\n",
            "Epoch 9/40\n",
            "60000/60000 [==============================] - 91s 2ms/step - loss: 0.0125 - accuracy: 0.9956\n",
            "Epoch 10/40\n",
            "60000/60000 [==============================] - 91s 2ms/step - loss: 0.0099 - accuracy: 0.9965\n",
            "Epoch 11/40\n",
            "60000/60000 [==============================] - 91s 2ms/step - loss: 0.0101 - accuracy: 0.9964\n",
            "Epoch 12/40\n",
            "60000/60000 [==============================] - 91s 2ms/step - loss: 0.0070 - accuracy: 0.9973\n",
            "Epoch 13/40\n",
            "60000/60000 [==============================] - 91s 2ms/step - loss: 0.0070 - accuracy: 0.9976\n",
            "Epoch 14/40\n",
            "60000/60000 [==============================] - 91s 2ms/step - loss: 0.0059 - accuracy: 0.9979\n",
            "Epoch 15/40\n",
            "60000/60000 [==============================] - 92s 2ms/step - loss: 0.0056 - accuracy: 0.9981\n",
            "Epoch 16/40\n",
            "60000/60000 [==============================] - 91s 2ms/step - loss: 0.0046 - accuracy: 0.9983\n",
            "Epoch 17/40\n",
            "60000/60000 [==============================] - 91s 2ms/step - loss: 0.0063 - accuracy: 0.9977\n",
            "Epoch 18/40\n",
            "60000/60000 [==============================] - 92s 2ms/step - loss: 0.0035 - accuracy: 0.9987\n",
            "Epoch 19/40\n",
            "60000/60000 [==============================] - 92s 2ms/step - loss: 0.0041 - accuracy: 0.9986\n",
            "Epoch 20/40\n",
            "60000/60000 [==============================] - 91s 2ms/step - loss: 0.0049 - accuracy: 0.9982\n",
            "Epoch 21/40\n",
            "60000/60000 [==============================] - 92s 2ms/step - loss: 0.0018 - accuracy: 0.9995\n",
            "Epoch 22/40\n",
            "60000/60000 [==============================] - 92s 2ms/step - loss: 0.0044 - accuracy: 0.9985\n",
            "Epoch 23/40\n",
            "60000/60000 [==============================] - 92s 2ms/step - loss: 0.0029 - accuracy: 0.9990\n",
            "Epoch 24/40\n",
            "60000/60000 [==============================] - 92s 2ms/step - loss: 0.0032 - accuracy: 0.9990\n",
            "Epoch 25/40\n",
            "60000/60000 [==============================] - 93s 2ms/step - loss: 0.0037 - accuracy: 0.9988\n",
            "Epoch 26/40\n",
            "60000/60000 [==============================] - 93s 2ms/step - loss: 7.6019e-04 - accuracy: 0.9998\n",
            "Epoch 27/40\n",
            "60000/60000 [==============================] - 92s 2ms/step - loss: 0.0020 - accuracy: 0.9994\n",
            "Epoch 28/40\n",
            "60000/60000 [==============================] - 92s 2ms/step - loss: 0.0027 - accuracy: 0.9990\n",
            "Epoch 29/40\n",
            "60000/60000 [==============================] - 92s 2ms/step - loss: 0.0016 - accuracy: 0.9995\n",
            "Epoch 30/40\n",
            "60000/60000 [==============================] - 91s 2ms/step - loss: 0.0039 - accuracy: 0.9987\n",
            "Epoch 31/40\n",
            "60000/60000 [==============================] - 91s 2ms/step - loss: 0.0029 - accuracy: 0.9991\n",
            "Epoch 32/40\n",
            "60000/60000 [==============================] - 96s 2ms/step - loss: 0.0012 - accuracy: 0.9995\n",
            "Epoch 33/40\n",
            "60000/60000 [==============================] - 92s 2ms/step - loss: 7.4162e-04 - accuracy: 0.9998\n",
            "Epoch 34/40\n",
            "60000/60000 [==============================] - 92s 2ms/step - loss: 0.0032 - accuracy: 0.9988\n",
            "Epoch 35/40\n",
            "60000/60000 [==============================] - 92s 2ms/step - loss: 4.4317e-04 - accuracy: 0.9998\n",
            "Epoch 36/40\n",
            "60000/60000 [==============================] - 92s 2ms/step - loss: 0.0020 - accuracy: 0.9994\n",
            "Epoch 37/40\n",
            "60000/60000 [==============================] - 91s 2ms/step - loss: 0.0020 - accuracy: 0.9994\n",
            "Epoch 38/40\n",
            "60000/60000 [==============================] - 91s 2ms/step - loss: 0.0028 - accuracy: 0.9991\n",
            "Epoch 39/40\n",
            "60000/60000 [==============================] - 96s 2ms/step - loss: 0.0016 - accuracy: 0.9995\n",
            "Epoch 40/40\n",
            "60000/60000 [==============================] - 91s 2ms/step - loss: 3.3197e-04 - accuracy: 0.9999\n"
          ],
          "name": "stdout"
        },
        {
          "output_type": "execute_result",
          "data": {
            "text/plain": [
              "<keras.callbacks.callbacks.History at 0x7f34f8058860>"
            ]
          },
          "metadata": {
            "tags": []
          },
          "execution_count": 37
        }
      ]
    },
    {
      "cell_type": "code",
      "metadata": {
        "id": "64bDoAlZVLzr",
        "colab_type": "code",
        "colab": {
          "base_uri": "https://localhost:8080/",
          "height": 68
        },
        "outputId": "67bc3567-b628-4d62-d216-3a623ef04fcb"
      },
      "source": [
        "preds = model.evaluate(X_test, Y_test, verbose=1)\n",
        "print(\"Loss = \" + str(preds[0]))\n",
        "print(\"Test Accuracy = \" + str(preds[1]))"
      ],
      "execution_count": 39,
      "outputs": [
        {
          "output_type": "stream",
          "text": [
            "10000/10000 [==============================] - 5s 548us/step\n",
            "Loss = 0.11844635531642661\n",
            "Test Accuracy = 0.9836000204086304\n"
          ],
          "name": "stdout"
        }
      ]
    }
  ]
}